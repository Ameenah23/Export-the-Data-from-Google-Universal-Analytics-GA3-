{
 "cells": [
  {
   "cell_type": "markdown",
   "id": "3fbe2821",
   "metadata": {},
   "source": [
    "### Description:\n",
    "Pulls Google Anlytics data with pagination and unsampled data\n",
    "\n",
    "Author:AMARNADH G(INDIA),\n",
    "Modified by Ameenah Al-Haidari"
   ]
  },
  {
   "cell_type": "code",
   "execution_count": 7,
   "id": "4cce32f2",
   "metadata": {},
   "outputs": [],
   "source": [
    "import pandas as pd"
   ]
  },
  {
   "cell_type": "code",
   "execution_count": 33,
   "id": "7c88057b",
   "metadata": {},
   "outputs": [],
   "source": [
    "\n",
    "###GOOGLE ANALYICS V4\n",
    "\n",
    "from apiclient.discovery import build\n",
    "from oauth2client.service_account import ServiceAccountCredentials\n",
    "from datetime import datetime, timedelta\n",
    "import io\n",
    "\n",
    "todayStr = datetime.today().strftime('%Y-%m-%d')\n",
    "YstrdyInt = datetime.today() - timedelta(days=1)\n",
    "YstrdyStr = datetime.strftime(YstrdyInt, '%Y-%m-%d')\n",
    "\n",
    "SCOPES = ['https://www.googleapis.com/auth/analytics.readonly']\n",
    "KEY_FILE_LOCATION = 'xxxxxx.json'\n",
    "VIEW_ID = 'xxxxxx'\n",
    "PAGESIZE = 100000"
   ]
  },
  {
   "cell_type": "code",
   "execution_count": 34,
   "id": "ea65a218",
   "metadata": {},
   "outputs": [],
   "source": [
    "def initialize_analyticsreporting():\n",
    "\n",
    "    credentials = \\\n",
    "        ServiceAccountCredentials.from_json_keyfile_name(KEY_FILE_LOCATION,\n",
    "            SCOPES)\n",
    "\n",
    "  # Build the service object.\n",
    "\n",
    "    analytics = build('analyticsreporting', 'v4',\n",
    "                      credentials=credentials)\n",
    "\n",
    "    return analytics"
   ]
  },
  {
   "cell_type": "code",
   "execution_count": 35,
   "id": "20a2fe2e",
   "metadata": {},
   "outputs": [],
   "source": [
    "def get_PT(response):\n",
    "    for report in response.get('reports', []):\n",
    "        columnHeader = report.get('columnHeader', {})\n",
    "        dimensionHeaders = columnHeader.get('dimensions', [])\n",
    "        metricHeaders = columnHeader.get('metricHeader',\n",
    "                {}).get('metricHeaderEntries', [])\n",
    "        pageToken = report.get('nextPageToken', None)\n",
    "        print(str(pageToken) + ' at 43')\n",
    "    return pageToken"
   ]
  },
  {
   "cell_type": "code",
   "execution_count": 41,
   "id": "04f918d7",
   "metadata": {},
   "outputs": [],
   "source": [
    "def get_report(analytics, pageToken='unknown'):\n",
    "\n",
    "    return analytics.reports().batchGet(body={'reportRequests': [{\n",
    "        'viewId': VIEW_ID,\n",
    "        'pageSize': PAGESIZE,\n",
    "        'samplingLevel': 'LARGE',\n",
    "        'pageToken': pageToken,\n",
    "        'dateRanges': [{'startDate': '2020-01-01',\n",
    "                       'endDate': '2023-07-24'}],\n",
    "        'metrics': [{'expression': 'ga:sessions'}],\n",
    "        'dimensions': [\n",
    "            {'name': 'ga:clientId'},\n",
    "            ],\n",
    "        }]}).execute()"
   ]
  },
  {
   "cell_type": "code",
   "execution_count": 42,
   "id": "de1e3d20",
   "metadata": {},
   "outputs": [],
   "source": [
    "def print_response(response):\n",
    "\n",
    "    f = io.open('allrowstillOctober' + todayStr + '.csv', 'a+',\n",
    "                encoding='utf-8')\n",
    "    for report in response.get('reports', []):\n",
    "        columnHeader = report.get('columnHeader', {})\n",
    "        dimensionHeaders = columnHeader.get('dimensions', [])\n",
    "        metricHeaders = columnHeader.get('metricHeader',\n",
    "                {}).get('metricHeaderEntries', [])\n",
    "\n",
    "        pageToken=report.get('nextPageToken', None)\n",
    "\n",
    "    # rint(pageToken)\n",
    "\n",
    "        print(columnHeader)\n",
    "\n",
    "      # writing dimention header\n",
    "\n",
    "        for D_header in dimensionHeaders:\n",
    "            f.write(str.capitalize(str.replace(D_header, 'ga:', ''))\n",
    "                    + ',')\n",
    "\n",
    "        # print(D_header)\n",
    "\n",
    "        for M_header in list(columnHeader['metricHeader'\n",
    "                             ]['metricHeaderEntries']):\n",
    "            f.write(str.capitalize(str.replace(M_header['name'], 'ga:',\n",
    "                    '')) + ',')\n",
    "\n",
    "        f.write('\\n')\n",
    "\n",
    "        for row in report.get('data', {}).get('rows', []):\n",
    "            dimensions = row.get('dimensions', [])\n",
    "            Metrics = row.get('metrics', [])\n",
    "\n",
    "    # writing dimention header row data\n",
    "\n",
    "            for dimension in dimensions:\n",
    "                f.write(dimension + ',')\n",
    "\n",
    "    # writing metric header\n",
    "\n",
    "            for (i, values) in enumerate(Metrics):\n",
    "                for (metricHeader, value) in zip(metricHeaders,\n",
    "                        values.get('values')):\n",
    "                    f.write(value + ',')\n",
    "            f.write('\\n')\n",
    "    f.close()\n"
   ]
  },
  {
   "cell_type": "code",
   "execution_count": 45,
   "id": "643056aa",
   "metadata": {},
   "outputs": [
    {
     "name": "stdout",
     "output_type": "stream",
     "text": [
      "100000 at 43\n",
      "100000 at 108\n",
      "{'dimensions': ['ga:clientId'], 'metricHeader': {'metricHeaderEntries': [{'name': 'ga:sessions', 'type': 'INTEGER'}]}}\n",
      "inside while 100000\n",
      "200000 at 43\n",
      "{'dimensions': ['ga:clientId'], 'metricHeader': {'metricHeaderEntries': [{'name': 'ga:sessions', 'type': 'INTEGER'}]}}\n",
      "200000 at 118\n",
      "inside while 200000\n",
      "300000 at 43\n",
      "{'dimensions': ['ga:clientId'], 'metricHeader': {'metricHeaderEntries': [{'name': 'ga:sessions', 'type': 'INTEGER'}]}}\n",
      "300000 at 118\n",
      "inside while 300000\n",
      "None at 43\n",
      "{'dimensions': ['ga:clientId'], 'metricHeader': {'metricHeaderEntries': [{'name': 'ga:sessions', 'type': 'INTEGER'}]}}\n",
      "None at 118\n"
     ]
    }
   ],
   "source": [
    "def main():\n",
    "    analytics = initialize_analyticsreporting()\n",
    "    response = get_report(analytics)\n",
    "\n",
    "    pageToken = get_PT(response)\n",
    "\n",
    "    print(str(pageToken) + ' at 108')\n",
    "\n",
    "    print_response(response)\n",
    "\n",
    "    while pageToken:\n",
    "        print('inside while ' + str(pageToken))\n",
    "        analytics = initialize_analyticsreporting()\n",
    "        response = get_report(analytics, pageToken)\n",
    "        pageToken = get_PT(response)\n",
    "        print_response(response)\n",
    "        print(str(pageToken) + ' at 118')\n",
    "\n",
    "\n",
    "if __name__ == '__main__':\n",
    "    main()"
   ]
  },
  {
   "cell_type": "markdown",
   "id": "da30f7cc",
   "metadata": {},
   "source": [
    "### All Data from 2020-01-01 to 2023-07-24"
   ]
  },
  {
   "cell_type": "code",
   "execution_count": 39,
   "id": "c72f4832",
   "metadata": {
    "scrolled": true
   },
   "outputs": [],
   "source": [
    "df = pd.read_csv(\"allrows2023-10-26.csv\")"
   ]
  },
  {
   "cell_type": "code",
   "execution_count": 30,
   "id": "f5259d26",
   "metadata": {},
   "outputs": [],
   "source": [
    "#df1 = df.drop(\"Unnamed: 2\", axis=1)"
   ]
  },
  {
   "cell_type": "code",
   "execution_count": 31,
   "id": "41d0b414",
   "metadata": {},
   "outputs": [
    {
     "data": {
      "text/html": [
       "<div>\n",
       "<style scoped>\n",
       "    .dataframe tbody tr th:only-of-type {\n",
       "        vertical-align: middle;\n",
       "    }\n",
       "\n",
       "    .dataframe tbody tr th {\n",
       "        vertical-align: top;\n",
       "    }\n",
       "\n",
       "    .dataframe thead th {\n",
       "        text-align: right;\n",
       "    }\n",
       "</style>\n",
       "<table border=\"1\" class=\"dataframe\">\n",
       "  <thead>\n",
       "    <tr style=\"text-align: right;\">\n",
       "      <th></th>\n",
       "      <th>Clientid</th>\n",
       "      <th>Sessions</th>\n",
       "    </tr>\n",
       "  </thead>\n",
       "  <tbody>\n",
       "    <tr>\n",
       "      <th>0</th>\n",
       "      <td>071e2870-78f5-44a4-9086-60aece22914b</td>\n",
       "      <td>1</td>\n",
       "    </tr>\n",
       "    <tr>\n",
       "      <th>1</th>\n",
       "      <td>6798a6cd-e45c-443d-ab62-691bb82e7f1b</td>\n",
       "      <td>1</td>\n",
       "    </tr>\n",
       "    <tr>\n",
       "      <th>2</th>\n",
       "      <td>e3673c7f-465b-4acf-9872-a211733e2171</td>\n",
       "      <td>1</td>\n",
       "    </tr>\n",
       "    <tr>\n",
       "      <th>3</th>\n",
       "      <td>185d195e-d7d0-4479-b562-953b89187acd</td>\n",
       "      <td>1</td>\n",
       "    </tr>\n",
       "    <tr>\n",
       "      <th>4</th>\n",
       "      <td>dcd637a5-b3a5-4115-8688-a3acabad40e9</td>\n",
       "      <td>1</td>\n",
       "    </tr>\n",
       "    <tr>\n",
       "      <th>...</th>\n",
       "      <td>...</td>\n",
       "      <td>...</td>\n",
       "    </tr>\n",
       "    <tr>\n",
       "      <th>303116</th>\n",
       "      <td>999974375.1586809560</td>\n",
       "      <td>2</td>\n",
       "    </tr>\n",
       "    <tr>\n",
       "      <th>303117</th>\n",
       "      <td>999983747.1632332319</td>\n",
       "      <td>1</td>\n",
       "    </tr>\n",
       "    <tr>\n",
       "      <th>303118</th>\n",
       "      <td>999983974.1685235330</td>\n",
       "      <td>1</td>\n",
       "    </tr>\n",
       "    <tr>\n",
       "      <th>303119</th>\n",
       "      <td>999993051.1592417915</td>\n",
       "      <td>1</td>\n",
       "    </tr>\n",
       "    <tr>\n",
       "      <th>303120</th>\n",
       "      <td>999999568.1640464951</td>\n",
       "      <td>2</td>\n",
       "    </tr>\n",
       "  </tbody>\n",
       "</table>\n",
       "<p>303121 rows × 2 columns</p>\n",
       "</div>"
      ],
      "text/plain": [
       "                                    Clientid Sessions\n",
       "0       071e2870-78f5-44a4-9086-60aece22914b        1\n",
       "1       6798a6cd-e45c-443d-ab62-691bb82e7f1b        1\n",
       "2       e3673c7f-465b-4acf-9872-a211733e2171        1\n",
       "3       185d195e-d7d0-4479-b562-953b89187acd        1\n",
       "4       dcd637a5-b3a5-4115-8688-a3acabad40e9        1\n",
       "...                                      ...      ...\n",
       "303116                  999974375.1586809560        2\n",
       "303117                  999983747.1632332319        1\n",
       "303118                  999983974.1685235330        1\n",
       "303119                  999993051.1592417915        1\n",
       "303120                  999999568.1640464951        2\n",
       "\n",
       "[303121 rows x 2 columns]"
      ]
     },
     "execution_count": 31,
     "metadata": {},
     "output_type": "execute_result"
    }
   ],
   "source": [
    "df1"
   ]
  },
  {
   "cell_type": "markdown",
   "id": "ba0922ce",
   "metadata": {},
   "source": [
    "### Total number of Sessions"
   ]
  },
  {
   "cell_type": "code",
   "execution_count": 32,
   "id": "7b296055",
   "metadata": {},
   "outputs": [
    {
     "data": {
      "text/plain": [
       "406864.0"
      ]
     },
     "execution_count": 32,
     "metadata": {},
     "output_type": "execute_result"
    }
   ],
   "source": [
    "pd.to_numeric(df1['Sessions'], errors='coerce').sum()"
   ]
  },
  {
   "cell_type": "code",
   "execution_count": null,
   "id": "1e2a8902",
   "metadata": {},
   "outputs": [],
   "source": []
  },
  {
   "cell_type": "code",
   "execution_count": null,
   "id": "3843aef6",
   "metadata": {},
   "outputs": [],
   "source": []
  },
  {
   "cell_type": "code",
   "execution_count": null,
   "id": "9dcc7688",
   "metadata": {},
   "outputs": [],
   "source": []
  }
 ],
 "metadata": {
  "kernelspec": {
   "display_name": "Python 3 (ipykernel)",
   "language": "python",
   "name": "python3"
  },
  "language_info": {
   "codemirror_mode": {
    "name": "ipython",
    "version": 3
   },
   "file_extension": ".py",
   "mimetype": "text/x-python",
   "name": "python",
   "nbconvert_exporter": "python",
   "pygments_lexer": "ipython3",
   "version": "3.11.5"
  }
 },
 "nbformat": 4,
 "nbformat_minor": 5
}
